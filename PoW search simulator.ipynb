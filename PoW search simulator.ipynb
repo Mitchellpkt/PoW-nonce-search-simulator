{
 "cells": [
  {
   "cell_type": "markdown",
   "id": "invalid-finland",
   "metadata": {},
   "source": [
    "Isthmus / Mitchellpkt\n",
    "\n",
    "March 2020"
   ]
  },
  {
   "cell_type": "markdown",
   "id": "stock-public",
   "metadata": {},
   "source": [
    "## Import libraries"
   ]
  },
  {
   "cell_type": "code",
   "execution_count": 1,
   "id": "selective-adrian",
   "metadata": {},
   "outputs": [],
   "source": [
    "import numpy as np\n",
    "import isthmuslib as isli\n",
    "import matplotlib.pyplot as plt\n",
    "import random as random"
   ]
  },
  {
   "cell_type": "markdown",
   "id": "wooden-mainstream",
   "metadata": {},
   "source": [
    "## Parameters"
   ]
  },
  {
   "cell_type": "code",
   "execution_count": 2,
   "id": "wrong-sample",
   "metadata": {},
   "outputs": [],
   "source": [
    "fractional_difficulty = 0.999"
   ]
  },
  {
   "cell_type": "markdown",
   "id": "passive-carol",
   "metadata": {},
   "source": [
    "## Mimic a PoW iteration"
   ]
  },
  {
   "cell_type": "code",
   "execution_count": 3,
   "id": "abandoned-excess",
   "metadata": {},
   "outputs": [],
   "source": [
    "def hash_attempt_boolean(fractional_difficulty):\n",
    "    random_num = random.random()\n",
    "    if random_num >= fractional_difficulty:\n",
    "        return True\n",
    "    else:\n",
    "        return False"
   ]
  },
  {
   "cell_type": "markdown",
   "id": "spectacular-fifty",
   "metadata": {},
   "source": [
    "## Define worker"
   ]
  },
  {
   "cell_type": "code",
   "execution_count": 4,
   "id": "willing-distinction",
   "metadata": {},
   "outputs": [],
   "source": [
    "def get_initial_nonce(search_strategy, nonce_range):\n",
    "    # Pick initial nonce\n",
    "    if search_strategy == 'increment_from_0':\n",
    "        return 0\n",
    "    elif search_strategy == 'increment_from_halfway':\n",
    "        return int(np.floor(nonce_range / 2))\n",
    "    elif search_strategy == 'decrement_from_top':\n",
    "        return int(nonce_range)\n",
    "    elif search_strategy == 'uniform':\n",
    "        return int(np.floor(random.random()*nonce_range))\n",
    "\n",
    "\n",
    "class Worker:\n",
    "\n",
    "    def __init__(self, hashes_per_second=100, search_strategy = 'increment_from_0', nonce_range = 2**32, workerID = None):\n",
    "        self.hashes_per_second = hashes_per_second\n",
    "        self.found_block_yet = False\n",
    "        self.search_strategy = search_strategy\n",
    "        self.nonce_range = nonce_range\n",
    "        self.nonce = get_initial_nonce(search_strategy, nonce_range)\n",
    "        if workerID is None:\n",
    "            self.workerID = int(np.floor(random.random()*1000000))\n",
    "        else:\n",
    "            self.workerID = workerID\n",
    "\n",
    "    def reset(self):\n",
    "        self.found_block_yet = False\n",
    "        self.nonce = get_initial_nonce(self.search_strategy, self.nonce_range)\n",
    "\n",
    "        # Pick reset nonce\n",
    "        if self.search_strategy == 'increment_from_0':\n",
    "            self.nonce = 0\n",
    "        elif self.search_strategy == 'increment_from_halfway':\n",
    "            self.nonce = np.floor(self.nonce_range / 2)\n",
    "        elif self.search_strategy == 'decrement_from_top':\n",
    "            self.nonce = np.floor(self.nonce_range)\n",
    "        elif self.search_strategy == 'uniform':\n",
    "            self.nonce = int(np.floor(random.random()*self.nonce_range))\n",
    "\n",
    "    def single_hash(self, fractional_difficulty, verbose = False):\n",
    "        \n",
    "        # Make an attempt\n",
    "        attempt_result = hash_attempt_boolean(fractional_difficulty)\n",
    "        if attempt_result:\n",
    "            self.found_block_yet = True\n",
    "            \n",
    "        # Update the nonce\n",
    "        if (self.search_strategy == 'increment_from_0') or (self.search_strategy == 'increment_from_halfway'):\n",
    "            self.nonce += 1\n",
    "        elif self.search_strategy == 'decrement_from_top':\n",
    "            self.nonce -= 1\n",
    "        elif self.search_strategy == 'uniform':\n",
    "            self.nonce = int(np.floor(random.random()*self.nonce_range))\n",
    "        else:\n",
    "            return NameError('Search strategy not recognized')\n",
    "            \n",
    "        return attempt_result\n",
    "    \n",
    "    def hash_n_times(self, number_of_hashes, fractional_difficulty, verbose = False):\n",
    "        iteration = 0\n",
    "        while (self.found_block_yet == False)& (iteration <= number_of_hashes):\n",
    "            self.single_hash(fractional_difficulty)\n",
    "            if verbose:\n",
    "                print('--------------')\n",
    "                print('Nonce: ' + str (self.nonce))\n",
    "                print('Step iteration: ' + str(iteration) + ' of ' + str(number_of_hashes))\n",
    "                print('Successful? ' + str(self.found_block_yet))\n",
    "            iteration += 1\n",
    "        return self.found_block_yet\n",
    "            \n",
    "    def hash_n_seconds(self, number_of_seconds, fractional_difficulty, verbose = False):\n",
    "        number_of_hashes = number_of_seconds * self.hashes_per_second\n",
    "        self.hash_n_times(number_of_hashes, fractional_difficulty, verbose = verbose)\n",
    "        return self.found_block_yet\n",
    "\n",
    "    def print(self):\n",
    "        print('---------------')\n",
    "        print('Worker hashrate: ' + str(self.hashes_per_second) + ' H/s')\n",
    "        print('Search strategy: '+ self.search_strategy)\n",
    "        print('Nonce range: ' + str(self.nonce_range))\n",
    "        print('Current nonce: ' + str(self.nonce))\n",
    "        print('Found block yet: ' + str(self.found_block_yet))"
   ]
  },
  {
   "cell_type": "code",
   "execution_count": 5,
   "id": "handed-senate",
   "metadata": {
    "pycharm": {
     "name": "#%%\n"
    }
   },
   "outputs": [],
   "source": [
    "class Network:\n",
    "    def __init__(self, height=0, fractional_difficulty=0.99):\n",
    "        self.height = height\n",
    "        self.fractional_difficulty = fractional_difficulty\n",
    "        self.block_height_list = list()\n",
    "        self.block_nonce_list = list()\n",
    "        self.block_producer_list = list()\n",
    "        self.worker_objects = list()\n",
    "\n",
    "    def initialize_n_workers(self, number_of_workers=100, worker_hashes_per_second=10, search_strategy = 'increment_from_0', nonce_range = 2**32):\n",
    "        for n in range(number_of_workers):\n",
    "            self.worker_objects.append(Worker(hashes_per_second=worker_hashes_per_second, search_strategy = search_strategy, nonce_range = nonce_range))\n",
    "\n",
    "    def mine_1_block(self, timestep_seconds = 1, verbose = False):\n",
    "        found_block = False\n",
    "        nth_step = 0\n",
    "        while not found_block:\n",
    "            if verbose:\n",
    "                print('$$$$$$$$$$ nth_step #: ' + str(nth_step))\n",
    "            for count, worker_object in enumerate(self.worker_objects):\n",
    "                if nth_step == 0:\n",
    "                    worker_object.reset()\n",
    "                result = worker_object.hash_n_seconds(timestep_seconds, self.fractional_difficulty, verbose = verbose)\n",
    "                # Do I have to put the object back??\n",
    "                self.worker_objects[count] = worker_object\n",
    "                if verbose:\n",
    "                    print('**********************')\n",
    "                    print('Count: ' + str(count) + ' // workerID: ' + str(worker_object.workerID))\n",
    "                    print(\"Result: \" + str(result))\n",
    "                if result:\n",
    "                    found_block = True\n",
    "                    self.block_height_list.append(self.height)\n",
    "                    self.block_nonce_list.append(worker_object.nonce)\n",
    "                    self.block_producer_list.append(worker_object.workerID)\n",
    "                    self.height += 1\n",
    "                    worker_object.reset()\n",
    "                    break\n",
    "                else:\n",
    "                    nth_step += 1\n",
    "\n",
    "    def mine_n_blocks(self, number_of_blocks, timestep_seconds = 1, verbose = False):\n",
    "        for _ in range(number_of_blocks):\n",
    "            self.mine_1_block(timestep_seconds = timestep_seconds, verbose = verbose)\n",
    "\n",
    "    def print(self, level=1):\n",
    "        print(\"--------\")\n",
    "        print(\"Height: \" + str(self.height))\n",
    "        print(\"Fractional difficulty: \"  + str(self.fractional_difficulty))\n",
    "        print(\"Number of blocks: \" + str(len(self.block_height_list)))\n",
    "        print(\"Number of workers: \" + str(len(self.worker_objects)))\n",
    "        if level > 1:\n",
    "            for h in range(len(self.block_height_list)):\n",
    "                print('Height: ' + str(self.block_height_list[h]) + ' | Nonce: ' +  str(self.block_nonce_list[h]) + ' | Worker: ' +  str(self.block_producer_list[h]))"
   ]
  },
  {
   "cell_type": "code",
   "source": [
    "fractional_difficulty = 0.9999\n",
    "number_of_blocks = 20000\n",
    "individual_plots = False"
   ],
   "metadata": {
    "collapsed": false,
    "pycharm": {
     "name": "#%%%\n"
    }
   },
   "execution_count": 6,
   "outputs": []
  },
  {
   "cell_type": "markdown",
   "source": [
    "First, try with a few workers"
   ],
   "metadata": {
    "collapsed": false,
    "pycharm": {
     "name": "#%% md\n"
    }
   }
  },
  {
   "cell_type": "code",
   "execution_count": 7,
   "outputs": [],
   "source": [
    "number_of_workers_small = 10\n",
    "N = Network(fractional_difficulty = fractional_difficulty)\n",
    "N.initialize_n_workers(number_of_workers = number_of_workers_small,worker_hashes_per_second=5)\n",
    "N.mine_n_blocks(number_of_blocks=number_of_blocks, verbose=False)\n",
    "if individual_plots:\n",
    "    isli.scatter(N.block_height_list, N.block_nonce_list, xlabel='height', ylabel='nonce', markersize=50, title = \"Nonce distribution with \" + str(number_of_workers) + ' workers')\n",
    "    isli.hist(N.block_nonce_list, xlabel='nonce', ylabel='frequency', title = \"Nonce distribution with \" + str(number_of_workers_small) + ' workers');"
   ],
   "metadata": {
    "collapsed": false,
    "pycharm": {
     "name": "#%%\n"
    }
   }
  },
  {
   "cell_type": "markdown",
   "source": [
    "And now with more workers"
   ],
   "metadata": {
    "collapsed": false,
    "pycharm": {
     "name": "#%% md\n"
    }
   }
  },
  {
   "cell_type": "code",
   "execution_count": 8,
   "outputs": [],
   "source": [
    "number_of_workers_medium = 10_000\n",
    "M = Network(fractional_difficulty = fractional_difficulty)\n",
    "M.initialize_n_workers(number_of_workers = number_of_workers_medium,worker_hashes_per_second=5)\n",
    "M.mine_n_blocks(number_of_blocks=number_of_blocks, verbose=False)\n",
    "if individual_plots:\n",
    "        isli.scatter(M.block_height_list, M.block_nonce_list, xlabel='height', ylabel='nonce', markersize=50, title = \"Nonce distribution with \" + str(number_of_workers) + ' workers')\n",
    "        isli.hist(M.block_nonce_list, xlabel='nonce', ylabel='frequency', title = \"Nonce distribution with \" + str(number_of_workers_medium) + ' workers');"
   ],
   "metadata": {
    "collapsed": false,
    "pycharm": {
     "name": "#%%\n"
    }
   }
  },
  {
   "cell_type": "code",
   "execution_count": 9,
   "outputs": [],
   "source": [
    "number_of_workers_large = 10_000_000\n",
    "L = Network(fractional_difficulty = fractional_difficulty)\n",
    "L.initialize_n_workers(number_of_workers = number_of_workers_large ,worker_hashes_per_second=5)\n",
    "L.mine_n_blocks(number_of_blocks=number_of_blocks, verbose=False)\n",
    "if individual_plots:\n",
    "    isli.scatter(L.block_height_list, L.block_nonce_list, xlabel='height', ylabel='nonce', markersize=50, title = \"Nonce distribution with \" + str(number_of_workers) + ' workers')\n",
    "    isli.hist(L.block_nonce_list, xlabel='nonce', ylabel='frequency', title = \"Nonce distribution with \" + str(number_of_workers_large) + ' workers');"
   ],
   "metadata": {
    "collapsed": false,
    "pycharm": {
     "name": "#%%\n"
    }
   }
  },
  {
   "cell_type": "code",
   "execution_count": 10,
   "outputs": [
    {
     "data": {
      "text/plain": "<Figure size 936x504 with 1 Axes>",
      "image/png": "[encoded data removed]"
     },
     "metadata": {},
     "output_type": "display_data"
    },
    {
     "data": {
      "text/plain": "<Figure size 936x504 with 1 Axes>",
      "image/png": "[encoded data removed]"
     },
     "metadata": {},
     "output_type": "display_data"
    }
   ],
   "source": [
    "dataDict = {\n",
    "    str(number_of_workers_small) + \" workers\":N.block_nonce_list,\n",
    "    str(number_of_workers_medium) + \" workers\":M.block_nonce_list,\n",
    "    str(number_of_workers_large) + \" workers\":L.block_nonce_list\n",
    "    }\n",
    "legend = (str(number_of_workers_small) + \" workers\", str(number_of_workers_medium) + \" workers\", str(number_of_workers_large) + \" workers\")\n",
    "isli.hist(dataDict, xlabel = \"nonce\", ylabel = \"frequency\", alpha=0.5)\n",
    "plt.legend(legend)\n",
    "isli.hist(dataDict, xlabel = \"nonce\", ylabel = \"frequency\", alpha=0.5, yscale='log')\n",
    "plt.legend(legend);"
   ],
   "metadata": {
    "collapsed": false,
    "pycharm": {
     "name": "#%%\n"
    }
   }
  },
  {
   "cell_type": "code",
   "execution_count": 12,
   "outputs": [
    {
     "ename": "TypeError",
     "evalue": "ufunc 'log10' not supported for the input types, and the inputs could not be safely coerced to any supported types according to the casting rule ''safe''",
     "output_type": "error",
     "traceback": [
      "\u001B[0;31m---------------------------------------------------------------------------\u001B[0m",
      "\u001B[0;31mTypeError\u001B[0m                                 Traceback (most recent call last)",
      "\u001B[0;32m<ipython-input-12-0991f709f7b4>\u001B[0m in \u001B[0;36m<module>\u001B[0;34m\u001B[0m\n\u001B[1;32m      1\u001B[0m \u001B[0misli\u001B[0m\u001B[0;34m.\u001B[0m\u001B[0mhist\u001B[0m\u001B[0;34m(\u001B[0m\u001B[0mdataDict\u001B[0m\u001B[0;34m,\u001B[0m \u001B[0mxlabel\u001B[0m \u001B[0;34m=\u001B[0m \u001B[0;34m\"nonce\"\u001B[0m\u001B[0;34m,\u001B[0m \u001B[0mylabel\u001B[0m \u001B[0;34m=\u001B[0m \u001B[0;34m\"frequency\"\u001B[0m\u001B[0;34m,\u001B[0m \u001B[0malpha\u001B[0m\u001B[0;34m=\u001B[0m\u001B[0;36m0.5\u001B[0m\u001B[0;34m,\u001B[0m \u001B[0mdensity\u001B[0m\u001B[0;34m=\u001B[0m\u001B[0;32mTrue\u001B[0m\u001B[0;34m)\u001B[0m\u001B[0;34m\u001B[0m\u001B[0;34m\u001B[0m\u001B[0m\n\u001B[1;32m      2\u001B[0m \u001B[0mplt\u001B[0m\u001B[0;34m.\u001B[0m\u001B[0mlegend\u001B[0m\u001B[0;34m(\u001B[0m\u001B[0mlegend\u001B[0m\u001B[0;34m)\u001B[0m\u001B[0;34m\u001B[0m\u001B[0;34m\u001B[0m\u001B[0m\n\u001B[0;32m----> 3\u001B[0;31m \u001B[0misli\u001B[0m\u001B[0;34m.\u001B[0m\u001B[0mhist\u001B[0m\u001B[0;34m(\u001B[0m\u001B[0mdataDict\u001B[0m\u001B[0;34m,\u001B[0m \u001B[0mxlabel\u001B[0m \u001B[0;34m=\u001B[0m \u001B[0;34m\"nonce\"\u001B[0m\u001B[0;34m,\u001B[0m \u001B[0mylabel\u001B[0m \u001B[0;34m=\u001B[0m \u001B[0;34m\"frequency\"\u001B[0m\u001B[0;34m,\u001B[0m \u001B[0malpha\u001B[0m\u001B[0;34m=\u001B[0m\u001B[0;36m0.5\u001B[0m\u001B[0;34m,\u001B[0m \u001B[0myscale\u001B[0m\u001B[0;34m=\u001B[0m\u001B[0;34m'log'\u001B[0m\u001B[0;34m,\u001B[0m \u001B[0mdensity\u001B[0m\u001B[0;34m=\u001B[0m\u001B[0;32mTrue\u001B[0m\u001B[0;34m,\u001B[0m \u001B[0mxscale\u001B[0m\u001B[0;34m=\u001B[0m\u001B[0;34m'log'\u001B[0m\u001B[0;34m)\u001B[0m\u001B[0;34m\u001B[0m\u001B[0;34m\u001B[0m\u001B[0m\n\u001B[0m\u001B[1;32m      4\u001B[0m \u001B[0mplt\u001B[0m\u001B[0;34m.\u001B[0m\u001B[0mlegend\u001B[0m\u001B[0;34m(\u001B[0m\u001B[0mlegend\u001B[0m\u001B[0;34m)\u001B[0m\u001B[0;34m\u001B[0m\u001B[0;34m\u001B[0m\u001B[0m\n",
      "\u001B[0;32m~/Projects/GitHub/PoW-search-simulator/env/lib/python3.8/site-packages/isthmuslib/isthmuslib_plots.py\u001B[0m in \u001B[0;36mhist\u001B[0;34m(data, xlabel, ylabel, title, xlim, ylim, figsize, facecolor, xylabelsize, titlesize, xscale, yscale, color, bins, grid, legend, cumulative, density, internalFaceColor, alpha)\u001B[0m\n\u001B[1;32m    145\u001B[0m     \u001B[0;32mif\u001B[0m \u001B[0mxscale\u001B[0m \u001B[0;34m==\u001B[0m \u001B[0;34m'log'\u001B[0m\u001B[0;34m:\u001B[0m\u001B[0;34m\u001B[0m\u001B[0;34m\u001B[0m\u001B[0m\n\u001B[1;32m    146\u001B[0m         \u001B[0;32mif\u001B[0m \u001B[0mtype\u001B[0m\u001B[0;34m(\u001B[0m\u001B[0mbins\u001B[0m\u001B[0;34m)\u001B[0m \u001B[0;34m==\u001B[0m \u001B[0mint\u001B[0m\u001B[0;34m:\u001B[0m\u001B[0;34m\u001B[0m\u001B[0;34m\u001B[0m\u001B[0m\n\u001B[0;32m--> 147\u001B[0;31m             \u001B[0mbins\u001B[0m \u001B[0;34m=\u001B[0m \u001B[0mnp\u001B[0m\u001B[0;34m.\u001B[0m\u001B[0mlogspace\u001B[0m\u001B[0;34m(\u001B[0m\u001B[0mnp\u001B[0m\u001B[0;34m.\u001B[0m\u001B[0mlog10\u001B[0m\u001B[0;34m(\u001B[0m\u001B[0mmin\u001B[0m\u001B[0;34m(\u001B[0m\u001B[0mdata\u001B[0m\u001B[0;34m)\u001B[0m\u001B[0;34m)\u001B[0m\u001B[0;34m,\u001B[0m \u001B[0mnp\u001B[0m\u001B[0;34m.\u001B[0m\u001B[0mlog10\u001B[0m\u001B[0;34m(\u001B[0m\u001B[0mmax\u001B[0m\u001B[0;34m(\u001B[0m\u001B[0mdata\u001B[0m\u001B[0;34m)\u001B[0m\u001B[0;34m)\u001B[0m\u001B[0;34m,\u001B[0m \u001B[0mbins\u001B[0m\u001B[0;34m)\u001B[0m\u001B[0;34m\u001B[0m\u001B[0;34m\u001B[0m\u001B[0m\n\u001B[0m\u001B[1;32m    148\u001B[0m         \u001B[0;32melse\u001B[0m\u001B[0;34m:\u001B[0m\u001B[0;34m\u001B[0m\u001B[0;34m\u001B[0m\u001B[0m\n\u001B[1;32m    149\u001B[0m             \u001B[0mbins\u001B[0m \u001B[0;34m=\u001B[0m \u001B[0mnp\u001B[0m\u001B[0;34m.\u001B[0m\u001B[0mlogspace\u001B[0m\u001B[0;34m(\u001B[0m\u001B[0mnp\u001B[0m\u001B[0;34m.\u001B[0m\u001B[0mlog10\u001B[0m\u001B[0;34m(\u001B[0m\u001B[0mbins\u001B[0m\u001B[0;34m[\u001B[0m\u001B[0;36m0\u001B[0m\u001B[0;34m]\u001B[0m\u001B[0;34m)\u001B[0m\u001B[0;34m,\u001B[0m \u001B[0mnp\u001B[0m\u001B[0;34m.\u001B[0m\u001B[0mlog10\u001B[0m\u001B[0;34m(\u001B[0m\u001B[0mbins\u001B[0m\u001B[0;34m[\u001B[0m\u001B[0;34m-\u001B[0m\u001B[0;36m1\u001B[0m\u001B[0;34m]\u001B[0m\u001B[0;34m)\u001B[0m\u001B[0;34m,\u001B[0m \u001B[0mlen\u001B[0m\u001B[0;34m(\u001B[0m\u001B[0mbins\u001B[0m\u001B[0;34m)\u001B[0m\u001B[0;34m)\u001B[0m\u001B[0;34m\u001B[0m\u001B[0;34m\u001B[0m\u001B[0m\n",
      "\u001B[0;31mTypeError\u001B[0m: ufunc 'log10' not supported for the input types, and the inputs could not be safely coerced to any supported types according to the casting rule ''safe''"
     ]
    },
    {
     "data": {
      "text/plain": "<Figure size 936x504 with 1 Axes>",
      "image/png": "[encoded data removed]"
     },
     "metadata": {},
     "output_type": "display_data"
    }
   ],
   "source": [
    "isli.hist(dataDict, xlabel = \"nonce\", ylabel = \"frequency\", alpha=0.5, density=True)\n",
    "plt.legend(legend)\n",
    "isli.hist(dataDict, xlabel = \"nonce\", ylabel = \"frequency\", alpha=0.5, yscale='log', density=True)\n",
    "plt.legend(legend)"
   ],
   "metadata": {
    "collapsed": false,
    "pycharm": {
     "name": "#%%\n"
    }
   }
  },
  {
   "cell_type": "code",
   "execution_count": null,
   "outputs": [],
   "source": [],
   "metadata": {
    "collapsed": false,
    "pycharm": {
     "name": "#%%\n"
    }
   }
  }
 ],
 "metadata": {
  "kernelspec": {
   "display_name": "Python 3",
   "language": "python",
   "name": "python3"
  },
  "language_info": {
   "codemirror_mode": {
    "name": "ipython",
    "version": 3
   },
   "file_extension": ".py",
   "mimetype": "text/x-python",
   "name": "python",
   "nbconvert_exporter": "python",
   "pygments_lexer": "ipython3",
   "version": "3.8.5"
  }
 },
 "nbformat": 4,
 "nbformat_minor": 5
}