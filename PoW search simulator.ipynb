{
 "cells": [
  {
   "cell_type": "markdown",
   "id": "invalid-finland",
   "metadata": {},
   "source": [
    "Isthmus / Mitchellpkt\n",
    "\n",
    "March 2020"
   ]
  },
  {
   "cell_type": "markdown",
   "id": "stock-public",
   "metadata": {},
   "source": [
    "## Import libraries"
   ]
  },
  {
   "cell_type": "code",
   "execution_count": 1,
   "id": "selective-adrian",
   "metadata": {},
   "outputs": [],
   "source": [
    "import numpy as np\n",
    "import isthmuslib as isli\n",
    "import matplotlib as pyplot \n",
    "import random as random"
   ]
  },
  {
   "cell_type": "markdown",
   "id": "wooden-mainstream",
   "metadata": {},
   "source": [
    "## Parameters"
   ]
  },
  {
   "cell_type": "code",
   "execution_count": 2,
   "id": "wrong-sample",
   "metadata": {},
   "outputs": [],
   "source": [
    "fractional_difficulty = 0.999"
   ]
  },
  {
   "cell_type": "markdown",
   "id": "passive-carol",
   "metadata": {},
   "source": [
    "## Mimic a PoW iteration"
   ]
  },
  {
   "cell_type": "code",
   "execution_count": 3,
   "id": "abandoned-excess",
   "metadata": {},
   "outputs": [],
   "source": [
    "def hash_attempt_boolean(fractional_difficulty):\n",
    "    random_num = random.random()\n",
    "    if random_num >= fractional_difficulty:\n",
    "        return True\n",
    "    else:\n",
    "        return False"
   ]
  },
  {
   "cell_type": "markdown",
   "id": "spectacular-fifty",
   "metadata": {},
   "source": [
    "## Define worker"
   ]
  },
  {
   "cell_type": "code",
   "execution_count": 4,
   "id": "willing-distinction",
   "metadata": {},
   "outputs": [],
   "source": [
    "def get_initial_nonce(search_strategy, nonce_range):\n",
    "    # Pick initial nonce\n",
    "    if search_strategy == 'increment_from_0':\n",
    "        return 0\n",
    "    elif search_strategy == 'increment_from_halfway':\n",
    "        return int(np.floor(nonce_range / 2))\n",
    "    elif search_strategy == 'decrement_from_top':\n",
    "        return int(nonce_range)\n",
    "    elif search_strategy == 'uniform':\n",
    "        return int(np.floor(random.random()*self.nonce_range))\n",
    "\n",
    "\n",
    "class Worker:\n",
    "\n",
    "    def __init__(self, hashes_per_second=100, search_strategy = 'increment_from_0', nonce_range = 2**32):\n",
    "        self.hashes_per_second = hashes_per_second\n",
    "        self.found_block_yet = False\n",
    "        self.search_strategy = search_strategy\n",
    "        self.nonce_range = nonce_range\n",
    "        self.nonce = get_initial_nonce(search_strategy, nonce_range)\n",
    "\n",
    "    def reset(self):\n",
    "        self.found_block_yet = False\n",
    "        self.nonce = get_initial_nonce(self.search_strategy, self.nonce_range)\n",
    "\n",
    "        # Pick reset nonce\n",
    "        if self.search_strategy == 'increment_from_0':\n",
    "            self.nonce = 0\n",
    "        elif self.search_strategy == 'increment_from_halfway':\n",
    "            self.nonce = np.floor(self.nonce_range / 2)\n",
    "        elif self.search_strategy == 'decrement_from_top':\n",
    "            self.nonce = np.floor(self.nonce_range)\n",
    "        elif self.search_strategy == 'uniform':\n",
    "            self.nonce = int(np.floor(random.random()*self.nonce_range))\n",
    "\n",
    "    def single_hash(self, fractional_difficulty, verbose = False):\n",
    "        \n",
    "        # Make an attempt\n",
    "        attempt_result = hash_attempt_boolean(fractional_difficulty)\n",
    "        if attempt_result:\n",
    "            self.found_block_yet = True\n",
    "            \n",
    "        # Update the nonce\n",
    "        if (self.search_strategy == 'increment_from_0') or (self.search_strategy == 'increment_from_halfway'):\n",
    "            self.nonce += 1\n",
    "        elif self.search_strategy == 'decrement_from_top':\n",
    "            self.nonce -= 1\n",
    "        elif self.search_strategy == 'uniform':\n",
    "            self.nonce = int(np.floor(random.random()*self.nonce_range))\n",
    "        else:\n",
    "            return NameError('Search strategy not recognized')\n",
    "            \n",
    "        return attempt_result\n",
    "    \n",
    "    def hash_n_times(self, number_of_hashes, fractional_difficulty, verbose = False):\n",
    "        iteration = 0\n",
    "        while (self.found_block_yet == False)& (iteration <= number_of_hashes):\n",
    "            self.single_hash(fractional_difficulty)\n",
    "            if verbose:\n",
    "                print('--------------')\n",
    "                print('Nonce: ' + str (self.nonce))\n",
    "                print('Step iteration: ' + str(iteration) + ' of ' + str(number_of_hashes))\n",
    "                print('Successful? ' + str(self.found_block_yet))\n",
    "            iteration += 1\n",
    "        return self.found_block_yet\n",
    "            \n",
    "    def hash_n_seconds(self, number_of_seconds, fractional_difficulty, verbose = False):\n",
    "        number_of_hashes = number_of_seconds * self.hashes_per_second\n",
    "        self.hash_n_times(number_of_hashes, fractional_difficulty, verbose = verbose)\n",
    "        return self.found_block_yet\n",
    "\n",
    "    def print(self):\n",
    "        print('---------------')\n",
    "        print('Worker hashrate: ' + str(self.hashes_per_second) + ' H/s')\n",
    "        print('Search strategy: '+ self.search_strategy)\n",
    "        print('Nonce range: ' + str(self.nonce_range))\n",
    "        print('Current nonce: ' + str(self.nonce))\n",
    "        print('Found block yet: ' + str(self.found_block_yet))"
   ]
  },
  {
   "cell_type": "code",
   "execution_count": 54,
   "id": "handed-senate",
   "metadata": {
    "pycharm": {
     "name": "#%%\n"
    }
   },
   "outputs": [],
   "source": [
    "class Network:\n",
    "    def __init__(self, height=0, fractional_difficulty=0.999):\n",
    "        self.height = height\n",
    "        self.fractional_difficulty = fractional_difficulty\n",
    "        self.block_height_list = list()\n",
    "        self.block_nonce_list = list()\n",
    "        self.worker_objects = list()\n",
    "\n",
    "    def initialize_n_workers(self, number_of_workers=100, worker_hashes_per_second=10, search_strategy = 'increment_from_0', nonce_range = 2**32):\n",
    "        for n in range(number_of_workers):\n",
    "            self.worker_objects.append(Worker(hashes_per_second=worker_hashes_per_second, search_strategy = search_strategy, nonce_range = nonce_range))\n",
    "\n",
    "    def print(self, level=1):\n",
    "        print(\"--------\")\n",
    "        print(\"Height: \" + str(self.height))\n",
    "        print(\"Fractional difficulty: \"  + str(self.fractional_difficulty))\n",
    "        print(\"Number of blocks: \" + str(len(self.block_height_list)))\n",
    "        print(\"Number of workers: \" + str(len(self.worker_objects)))\n",
    "        if level > 1:\n",
    "            for h in range(len(self.block_height_list)):\n",
    "                print('Height: ' + str(self.block_height_list[h]) + ' | Nonce: ' +  str(self.block_nonce_list[h]))"
   ]
  },
  {
   "cell_type": "code",
   "execution_count": 57,
   "outputs": [
    {
     "name": "stdout",
     "output_type": "stream",
     "text": [
      "--------\n",
      "Height: 0\n",
      "Fractional difficulty: 0.999\n",
      "Number of blocks: 0\n",
      "Number of workers:0\n"
     ]
    }
   ],
   "source": [
    "N = Network()\n",
    "N.print()"
   ],
   "metadata": {
    "collapsed": false,
    "pycharm": {
     "name": "#%%\n"
    }
   }
  },
  {
   "cell_type": "code",
   "execution_count": 58,
   "outputs": [
    {
     "name": "stdout",
     "output_type": "stream",
     "text": [
      "--------\n",
      "Height: 0\n",
      "Fractional difficulty: 0.999\n",
      "Number of blocks: 0\n",
      "Number of workers:5\n"
     ]
    }
   ],
   "source": [
    "N.initialize_n_workers(5)\n",
    "N.print()"
   ],
   "metadata": {
    "collapsed": false,
    "pycharm": {
     "name": "#%%\n"
    }
   }
  },
  {
   "cell_type": "code",
   "execution_count": 58,
   "outputs": [],
   "source": [],
   "metadata": {
    "collapsed": false,
    "pycharm": {
     "name": "#%%\n"
    }
   }
  },
  {
   "cell_type": "code",
   "execution_count": null,
   "outputs": [],
   "source": [],
   "metadata": {
    "collapsed": false,
    "pycharm": {
     "name": "#%%\n"
    }
   }
  }
 ],
 "metadata": {
  "kernelspec": {
   "display_name": "Python 3",
   "language": "python",
   "name": "python3"
  },
  "language_info": {
   "codemirror_mode": {
    "name": "ipython",
    "version": 3
   },
   "file_extension": ".py",
   "mimetype": "text/x-python",
   "name": "python",
   "nbconvert_exporter": "python",
   "pygments_lexer": "ipython3",
   "version": "3.8.5"
  }
 },
 "nbformat": 4,
 "nbformat_minor": 5
}