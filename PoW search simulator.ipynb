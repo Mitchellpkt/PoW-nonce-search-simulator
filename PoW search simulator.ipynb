{
 "cells": [
  {
   "cell_type": "markdown",
   "id": "generic-fruit",
   "metadata": {},
   "source": [
    "Isthmus / Mitchellpkt\n",
    "\n",
    "March 2020"
   ]
  },
  {
   "cell_type": "markdown",
   "id": "revised-overview",
   "metadata": {},
   "source": [
    "## Import libraries"
   ]
  },
  {
   "cell_type": "code",
   "execution_count": 15,
   "id": "intermediate-turner",
   "metadata": {},
   "outputs": [],
   "source": [
    "import numpy as np\n",
    "import isthmuslib as isli\n",
    "import matplotlib as pyplot \n",
    "import random as random"
   ]
  },
  {
   "cell_type": "markdown",
   "id": "narrow-horror",
   "metadata": {},
   "source": [
    "## Parameters"
   ]
  },
  {
   "cell_type": "code",
   "execution_count": 16,
   "id": "conscious-chinese",
   "metadata": {},
   "outputs": [],
   "source": [
    "fractional_difficulty = 0.999"
   ]
  },
  {
   "cell_type": "markdown",
   "id": "artistic-planet",
   "metadata": {},
   "source": [
    "## Mimic a PoW iteration"
   ]
  },
  {
   "cell_type": "code",
   "execution_count": 22,
   "id": "composite-drive",
   "metadata": {},
   "outputs": [],
   "source": [
    "def hash_attempt_boolean(fractional_difficulty):\n",
    "    random_num = random.random()\n",
    "    if random_num >= fractional_difficulty:\n",
    "        return True\n",
    "    else:\n",
    "        return False"
   ]
  },
  {
   "cell_type": "markdown",
   "id": "capable-basic",
   "metadata": {},
   "source": [
    "## Define worker"
   ]
  },
  {
   "cell_type": "code",
   "execution_count": 79,
   "id": "limited-jewelry",
   "metadata": {},
   "outputs": [],
   "source": [
    "class Worker:\n",
    "    def __init__(self, hashes_per_second=100):\n",
    "        self.hashes_per_second = hashes_per_second\n",
    "        self.nonce = 0\n",
    "        self.found_block_yet = False\n",
    "        \n",
    "    def reset(self):\n",
    "        self.nonce = 0\n",
    "        self.found_block_yet = False\n",
    "        \n",
    "    def print(self):\n",
    "        print('---------------')\n",
    "        print('Worker hashrate: ' + str(self.hashes_per_second) + ' H/s')\n",
    "        print('Current nonce: ' + str(self.nonce))\n",
    "        print('Found block yet: ' + str(self.found_block_yet))\n",
    "\n",
    "    def single_hash(self, fractional_difficulty, verbose = False):\n",
    "        self.nonce = self.nonce + 1\n",
    "        attempt_result = hash_attempt_boolean(fractional_difficulty)\n",
    "        if attempt_result:\n",
    "            self.found_block_yet = True\n",
    "        return attempt_result\n",
    "    \n",
    "    def multiple_hash(self, number_of_hashes, fractional_difficulty, verbose = False):\n",
    "        iteration = 0\n",
    "        while (self.found_block_yet == False)& (iteration <= number_of_hashes):\n",
    "            self.single_hash(fractional_difficulty)\n",
    "            if verbose:\n",
    "                print('--------------')\n",
    "                print('Nonce: ' + str (self.nonce))\n",
    "                print('Step iteration: ' + str(iteration) + ' of ' + str(number_of_hashes))\n",
    "                print('Successful? ' + str(self.found_block_yet))\n",
    "            iteration += 1\n",
    "        return self.found_block_yet\n",
    "            \n",
    "    def hash_n_seconds(self, number_of_seconds, fractional_difficulty, verbose = False):\n",
    "        number_of_hashes = number_of_seconds * hashes_per_second\n",
    "        multiple_hash(number_of_hashes, fractional_difficulty, verbose = verbose)\n",
    "        return self.found_block_yet"
   ]
  },
  {
   "cell_type": "markdown",
   "id": "temporal-caution",
   "metadata": {},
   "source": [
    "## Test a single simulation"
   ]
  },
  {
   "cell_type": "code",
   "execution_count": 80,
   "id": "direct-bailey",
   "metadata": {},
   "outputs": [],
   "source": [
    "W = Worker(hashes_per_second=400)"
   ]
  },
  {
   "cell_type": "code",
   "execution_count": 81,
   "id": "green-miniature",
   "metadata": {},
   "outputs": [],
   "source": [
    "W.reset()"
   ]
  },
  {
   "cell_type": "code",
   "execution_count": 84,
   "id": "about-asthma",
   "metadata": {},
   "outputs": [
    {
     "name": "stdout",
     "output_type": "stream",
     "text": [
      "--------------\n",
      "Nonce: 7\n",
      "Step iteration: 0 of 5\n",
      "Successful? False\n",
      "--------------\n",
      "Nonce: 8\n",
      "Step iteration: 1 of 5\n",
      "Successful? True\n"
     ]
    },
    {
     "data": {
      "text/plain": [
       "True"
      ]
     },
     "execution_count": 84,
     "metadata": {},
     "output_type": "execute_result"
    }
   ],
   "source": [
    "W.multiple_hash(5, 0.9, verbose=True)"
   ]
  }
 ],
 "metadata": {
  "kernelspec": {
   "display_name": "Python 3",
   "language": "python",
   "name": "python3"
  },
  "language_info": {
   "codemirror_mode": {
    "name": "ipython",
    "version": 3
   },
   "file_extension": ".py",
   "mimetype": "text/x-python",
   "name": "python",
   "nbconvert_exporter": "python",
   "pygments_lexer": "ipython3",
   "version": "3.8.5"
  }
 },
 "nbformat": 4,
 "nbformat_minor": 5
}
