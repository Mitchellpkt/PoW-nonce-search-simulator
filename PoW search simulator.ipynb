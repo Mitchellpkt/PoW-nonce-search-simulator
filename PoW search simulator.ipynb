{
 "cells": [
  {
   "cell_type": "markdown",
   "id": "invalid-finland",
   "metadata": {},
   "source": [
    "# Nonce distribution analysis\n",
    "\n",
    "## Introduction\n",
    "\n",
    "This notebook explores how the distribution of nonces is impacted by the number of workers between which hashing is divided.\n",
    "For example, consider miners employing the nonce search strategy of starting at 0 and iterating upwards, and imagine that it takes about 10,000 hashes to mine a block on average.\n",
    "+ Scenario 1: If these 10,000 hashes are being carried out by a single worker, then we expect to see nonces scattered throughout that range (e.g. nonce values around 7000, 10000, and 20000 would not be surprising)\n",
    "+ Scenario 2: If these 10,000 hashes are divided between 1,000 workers in parallel, then one of them is statistically likely to find a block by the time that they are all 10 or 20 hashes in. (so a nonce value of 7000 would be extraordinarily unlikely, because that would mean that no block was found in the first 7,000*(1,000 workers) = 7,000,000 hashes!\n",
    "\n",
    "Here, we explore the relationship between worker count and nonce distribution. For convenience, this notebook focuses on miners employing a nonce search strategy of incrementing upwards from 0, which is the dominant strategy in many PoW cryptocurrencies.\n",
    "The same logic and analysis can be applied to other observed nonce search strategies such as incrementing upwards from the halfway point of the nonce range, or decrementing from the top of the nonce range.\n",
    "This approach cannot be applied to extract any information about miners who select a random starting nonce for each block.\n",
    "As discused at the end of [Utter “Noncesense” — a statistical study of nonce value distribution on the Monero blockchain](https://medium.com/hackernoon/utter-noncesense-a-statistical-study-of-nonce-value-distribution-on-the-monero-blockchain-f13f673a0a0d), I recommend that PoW miners adopt a strategy of selection of an initial starting nonce (uniformly random over the nonce range) and incrementing from there. This suffices to thoroughly styme statistical analysis, while only requiring one call to the random() function before the first hash.\n",
    "\n",
    "## Model description\n",
    "\n",
    "The simulator below defines a `Worker` object (representing a single mining worker) and a `Network` object (representing the state and history of the blockchain). **It should be emphasized that this model was designed for easy physical interpretability rather than efficiency.** This approach is meant to be intuitive, so some optimizations were skipped (for example, if 1 million simulated workers have the same search strategy and hashrate, the below approach of instantiating and storing 1M worker objects is silly - we could just iterate over one object 1M times)\n",
    "\n",
    "For each `Worker`, the following parameters can be specified:\n",
    "+ `hashes_per_second` (default: `100`)\n",
    "+ `search_strategy`, can be `increment_from_0` (default), `increment_from_halfway`, `decrement_from_top`, and `uniform`. These are the main strategies observed in Firo and Monero\n",
    "+ `nonce_range` (default: `2**32`)\n",
    "+ `workerID` (default: randomly generated)\n",
    "The worker methods such as `single_hash`, `hash_n_times`, and `hash_n_seconds` return True if a block is found (else: false) and update the worker object's nonce according to its search strategy\n",
    "\n",
    "The `Network` has a few fields that mimic consensus state (`height` and `fractional_difficulty`) and stores history,\n",
    "such as `block_height_list` for `block_nonce_list` blocks previously mined by simulated workers. There are 3 steps to begin mining\n",
    "\n",
    "[1] instantiate the network:\n",
    "\n",
    "`N = Network(fractional_difficulty = 0.9995)`\n",
    "\n",
    "[2] initialize a set of miner workers:\n",
    "\n",
    "`N.initialize_n_workers(number_of_workers = 10, worker_hashes_per_second = 5)`\n",
    "\n",
    "[3] mine some blocks:\n",
    "\n",
    "`N.mine_n_blocks(number_of_blocks = 2000, verbose = False)`\n",
    "\n",
    "To see the resulting state of the network, use its print method, which takes in a verbosity level - `N.print(2)` will show heights and nonces.\n",
    "\n",
    "To jump to the results, check out the plots at the bottom of this notebook.\n",
    "\n",
    "## Contact\n",
    "\n",
    "Isthmus / PoW-simulator@mitchellpkt.com\n",
    "\n",
    "March 2020\n"
   ]
  },
  {
   "cell_type": "markdown",
   "id": "stock-public",
   "metadata": {},
   "source": [
    "## Import libraries"
   ]
  },
  {
   "cell_type": "code",
   "execution_count": 1,
   "id": "selective-adrian",
   "metadata": {},
   "outputs": [],
   "source": [
    "import numpy as np\n",
    "import isthmuslib as isli\n",
    "import matplotlib.pyplot as plt\n",
    "import random as random"
   ]
  },
  {
   "cell_type": "markdown",
   "id": "passive-carol",
   "metadata": {},
   "source": [
    "## Mimic checking if a hash satisfies difficulty"
   ]
  },
  {
   "cell_type": "code",
   "execution_count": 3,
   "id": "abandoned-excess",
   "metadata": {},
   "outputs": [],
   "source": [
    "def hash_attempt_boolean(fractional_difficulty):\n",
    "    random_num = random.random()\n",
    "    if random_num >= fractional_difficulty:\n",
    "        return True\n",
    "    else:\n",
    "        return False"
   ]
  },
  {
   "cell_type": "markdown",
   "id": "spectacular-fifty",
   "metadata": {},
   "source": [
    "## Define `Worker` and `Network` classes"
   ]
  },
  {
   "cell_type": "code",
   "execution_count": 16,
   "id": "willing-distinction",
   "metadata": {},
   "outputs": [],
   "source": [
    "def get_initial_nonce(search_strategy, nonce_range):\n",
    "    # Pick initial nonce\n",
    "    if search_strategy == 'increment_from_0':\n",
    "        return 0\n",
    "    elif search_strategy == 'increment_from_halfway':\n",
    "        return int(np.floor(nonce_range / 2))\n",
    "    elif search_strategy == 'decrement_from_top':\n",
    "        return int(nonce_range)\n",
    "    elif search_strategy == 'uniform':\n",
    "        return int(np.floor(random.random()*nonce_range))\n",
    "\n",
    "\n",
    "class Worker:\n",
    "\n",
    "    def __init__(self, hashes_per_second=100, search_strategy = 'increment_from_0', nonce_range = 2**32, workerID = None):\n",
    "        self.hashes_per_second = hashes_per_second\n",
    "        self.found_block_yet = False\n",
    "        self.search_strategy = search_strategy\n",
    "        self.nonce_range = nonce_range\n",
    "        self.nonce = get_initial_nonce(search_strategy, nonce_range)\n",
    "        if workerID is None:\n",
    "            self.workerID = int(np.floor(random.random()*1000000))\n",
    "        else:\n",
    "            self.workerID = workerID\n",
    "\n",
    "    def reset(self):\n",
    "        self.found_block_yet = False\n",
    "        self.nonce = get_initial_nonce(self.search_strategy, self.nonce_range)\n",
    "\n",
    "        # Pick reset nonce\n",
    "        if self.search_strategy == 'increment_from_0':\n",
    "            self.nonce = 0\n",
    "        elif self.search_strategy == 'increment_from_halfway':\n",
    "            self.nonce = np.floor(self.nonce_range / 2)\n",
    "        elif self.search_strategy == 'decrement_from_top':\n",
    "            self.nonce = np.floor(self.nonce_range)\n",
    "        elif self.search_strategy == 'uniform':\n",
    "            self.nonce = int(np.floor(random.random()*self.nonce_range))\n",
    "\n",
    "    def single_hash(self, fractional_difficulty, verbose = False):\n",
    "        \n",
    "        # Make an attempt\n",
    "        attempt_result = hash_attempt_boolean(fractional_difficulty)\n",
    "        if attempt_result:\n",
    "            self.found_block_yet = True\n",
    "            \n",
    "        # Update the nonce\n",
    "        if (self.search_strategy == 'increment_from_0') or (self.search_strategy == 'increment_from_halfway'):\n",
    "            self.nonce += 1\n",
    "        elif self.search_strategy == 'decrement_from_top':\n",
    "            self.nonce -= 1\n",
    "        elif self.search_strategy == 'uniform':\n",
    "            self.nonce = int(np.floor(random.random()*self.nonce_range))\n",
    "            # Note that it would be fine to select a random starting nonce once per block, then increment there\n",
    "        else:\n",
    "            return NameError('Search strategy not recognized')\n",
    "            \n",
    "        return attempt_result\n",
    "    \n",
    "    def hash_n_times(self, number_of_hashes, fractional_difficulty, verbose = False):\n",
    "        iteration = 0\n",
    "        while (self.found_block_yet == False)& (iteration <= number_of_hashes):\n",
    "            self.single_hash(fractional_difficulty)\n",
    "            if verbose:\n",
    "                print('--------------')\n",
    "                print('Nonce: ' + str (self.nonce))\n",
    "                print('Step iteration: ' + str(iteration) + ' of ' + str(number_of_hashes))\n",
    "                print('Successful? ' + str(self.found_block_yet))\n",
    "            iteration += 1\n",
    "        return self.found_block_yet\n",
    "            \n",
    "    def hash_n_seconds(self, number_of_seconds, fractional_difficulty, verbose = False):\n",
    "        number_of_hashes = number_of_seconds * self.hashes_per_second\n",
    "        self.hash_n_times(number_of_hashes, fractional_difficulty, verbose = verbose)\n",
    "        return self.found_block_yet\n",
    "\n",
    "    def print(self):\n",
    "        print('---------------')\n",
    "        print('Worker hashrate: ' + str(self.hashes_per_second) + ' H/s')\n",
    "        print('Search strategy: '+ self.search_strategy)\n",
    "        print('Nonce range: ' + str(self.nonce_range))\n",
    "        print('Current nonce: ' + str(self.nonce))\n",
    "        print('Found block yet: ' + str(self.found_block_yet))\n",
    "\n",
    "class Network:\n",
    "    def __init__(self, height=0, fractional_difficulty=0.99):\n",
    "        self.height = height\n",
    "        self.fractional_difficulty = fractional_difficulty\n",
    "        self.block_height_list = list()\n",
    "        self.block_nonce_list = list()\n",
    "        self.block_producer_list = list()\n",
    "        self.worker_objects = list()\n",
    "\n",
    "    def initialize_n_workers(self, number_of_workers=100, worker_hashes_per_second=10, search_strategy = 'increment_from_0', nonce_range = 2**32):\n",
    "        for n in range(number_of_workers):\n",
    "            self.worker_objects.append(Worker(hashes_per_second=worker_hashes_per_second, search_strategy = search_strategy, nonce_range = nonce_range))\n",
    "\n",
    "    def mine_1_block(self, timestep_seconds = 1, verbose = False):\n",
    "        found_block = False\n",
    "        nth_step = 0\n",
    "        while not found_block:\n",
    "            if verbose:\n",
    "                print('$$$$$$$$$$ nth_step #: ' + str(nth_step))\n",
    "            for count, worker_object in enumerate(self.worker_objects):\n",
    "                if nth_step == 0:\n",
    "                    worker_object.reset()\n",
    "                result = worker_object.hash_n_seconds(timestep_seconds, self.fractional_difficulty, verbose = verbose)\n",
    "                # Do I have to put the object back??\n",
    "                self.worker_objects[count] = worker_object\n",
    "                if verbose:\n",
    "                    print('**********************')\n",
    "                    print('Count: ' + str(count) + ' // workerID: ' + str(worker_object.workerID))\n",
    "                    print(\"Result: \" + str(result))\n",
    "                if result:\n",
    "                    found_block = True\n",
    "                    self.block_height_list.append(self.height)\n",
    "                    self.block_nonce_list.append(worker_object.nonce)\n",
    "                    self.block_producer_list.append(worker_object.workerID)\n",
    "                    self.height += 1\n",
    "                    worker_object.reset()\n",
    "                    break\n",
    "                else:\n",
    "                    nth_step += 1\n",
    "\n",
    "    def mine_n_blocks(self, number_of_blocks, timestep_seconds = 1, verbose = False):\n",
    "        for _ in range(number_of_blocks):\n",
    "            self.mine_1_block(timestep_seconds = timestep_seconds, verbose = verbose)\n",
    "\n",
    "    def print(self, level=1):\n",
    "        print(\"--------\")\n",
    "        print(\"Height: \" + str(self.height))\n",
    "        print(\"Fractional difficulty: \"  + str(self.fractional_difficulty))\n",
    "        print(\"Number of blocks: \" + str(len(self.block_height_list)))\n",
    "        print(\"Number of workers: \" + str(len(self.worker_objects)))\n",
    "        if level > 1:\n",
    "            for h in range(len(self.block_height_list)):\n",
    "                print('Height: ' + str(self.block_height_list[h]) + ' | Nonce: ' +  str(self.block_nonce_list[h]) + ' | Worker: ' +  str(self.block_producer_list[h]))"
   ]
  },
  {
   "cell_type": "markdown",
   "id": "casual-petersburg",
   "metadata": {},
   "source": [
    "## Example simulations"
   ]
  },
  {
   "cell_type": "markdown",
   "id": "numerical-avenue",
   "metadata": {
    "pycharm": {
     "name": "#%% md\n"
    }
   },
   "source": [
    "### Model parameters\n",
    "Set parameters for some simulations"
   ]
  },
  {
   "cell_type": "code",
   "execution_count": 6,
   "id": "medical-charles",
   "metadata": {
    "pycharm": {
     "name": "#%%%\n"
    }
   },
   "outputs": [],
   "source": [
    "fractional_difficulty = 0.99999 # Lower this if taking too long to run\n",
    "number_of_blocks = 20000 # Sample size\n",
    "individual_plots = False # Show intermediate plots?"
   ]
  },
  {
   "cell_type": "markdown",
   "id": "concerned-blank",
   "metadata": {
    "pycharm": {
     "name": "#%% md\n"
    }
   },
   "source": [
    "### Run simulations\n",
    "First, simulate mining with only a few workers"
   ]
  },
  {
   "cell_type": "code",
   "execution_count": 7,
   "id": "naval-anger",
   "metadata": {
    "pycharm": {
     "name": "#%%\n"
    }
   },
   "outputs": [],
   "source": [
    "number_of_workers_small = 10\n",
    "N = Network(fractional_difficulty = fractional_difficulty)\n",
    "N.initialize_n_workers(number_of_workers = number_of_workers_small,worker_hashes_per_second=5)\n",
    "N.mine_n_blocks(number_of_blocks=number_of_blocks, verbose=False)\n",
    "if individual_plots:\n",
    "    isli.scatter(N.block_height_list, N.block_nonce_list, xlabel='height', ylabel='nonce', markersize=50, title = \"Nonce distribution with \" + str(number_of_workers_small) + ' workers')\n",
    "    isli.hist(N.block_nonce_list, xlabel='nonce', ylabel='frequency', title = \"Nonce distribution with \" + str(number_of_workers_small) + ' workers');"
   ]
  },
  {
   "cell_type": "markdown",
   "id": "radical-monkey",
   "metadata": {
    "pycharm": {
     "name": "#%% md\n"
    }
   },
   "source": [
    "And now with more workers"
   ]
  },
  {
   "cell_type": "code",
   "execution_count": null,
   "id": "prepared-duplicate",
   "metadata": {
    "pycharm": {
     "name": "#%%\n"
    }
   },
   "outputs": [],
   "source": [
    "number_of_workers_medium = 10_000\n",
    "M = Network(fractional_difficulty = fractional_difficulty)\n",
    "M.initialize_n_workers(number_of_workers = number_of_workers_medium,worker_hashes_per_second=5)\n",
    "M.mine_n_blocks(number_of_blocks=number_of_blocks, verbose=False)\n",
    "if individual_plots:\n",
    "        isli.scatter(M.block_height_list, M.block_nonce_list, xlabel='height', ylabel='nonce', markersize=50, title = \"Nonce distribution with \" + str(number_of_workers_medium) + ' workers')\n",
    "        isli.hist(M.block_nonce_list, xlabel='nonce', ylabel='frequency', title = \"Nonce distribution with \" + str(number_of_workers_medium) + ' workers');"
   ]
  },
  {
   "cell_type": "code",
   "execution_count": null,
   "id": "numerical-portfolio",
   "metadata": {
    "pycharm": {
     "name": "#%%\n"
    }
   },
   "outputs": [],
   "source": [
    "number_of_workers_large = 1_000_000\n",
    "L = Network(fractional_difficulty = fractional_difficulty)\n",
    "L.initialize_n_workers(number_of_workers = number_of_workers_large ,worker_hashes_per_second=5)\n",
    "L.mine_n_blocks(number_of_blocks=number_of_blocks, verbose=False)\n",
    "if individual_plots:\n",
    "    isli.scatter(L.block_height_list, L.block_nonce_list, xlabel='height', ylabel='nonce', markersize=50, title = \"Nonce distribution with \" + str(number_of_workers_large) + ' workers')\n",
    "    isli.hist(L.block_nonce_list, xlabel='nonce', ylabel='frequency', title = \"Nonce distribution with \" + str(number_of_workers_large) + ' workers');"
   ]
  },
  {
   "cell_type": "markdown",
   "id": "virgin-judge",
   "metadata": {
    "pycharm": {
     "name": "#%% md\n"
    }
   },
   "source": [
    "### Visualize simulation results\n",
    "View the results on both linear and log y-axes. (Note that first cell plots raw block counts, whereas the second cell normalizes the y-axis to density)"
   ]
  },
  {
   "cell_type": "code",
   "execution_count": 13,
   "id": "private-audit",
   "metadata": {
    "pycharm": {
     "name": "#%%\n"
    }
   },
   "outputs": [
    {
     "data": {
      "image/png": "[encoded data removed]",
      "text/plain": [
       "<Figure size 936x504 with 1 Axes>"
      ]
     },
     "metadata": {},
     "output_type": "display_data"
    },
    {
     "data": {
      "image/png": "[encoded data removed]",
      "text/plain": [
       "<Figure size 936x504 with 1 Axes>"
      ]
     },
     "metadata": {},
     "output_type": "display_data"
    }
   ],
   "source": [
    "dataDict = {\n",
    "    str(number_of_workers_small) + \" workers\":N.block_nonce_list,\n",
    "    str(number_of_workers_medium) + \" workers\":M.block_nonce_list,\n",
    "    str(number_of_workers_large) + \" workers\":L.block_nonce_list\n",
    "    }\n",
    "legend = (str(number_of_workers_small) + \" workers\", str(number_of_workers_medium) + \" workers\", str(number_of_workers_large) + \" workers\")\n",
    "isli.hist(dataDict, xlabel = \"nonce\", ylabel = \"frequency\", alpha=0.5)\n",
    "plt.legend(legend)\n",
    "isli.hist(dataDict, xlabel = \"nonce\", ylabel = \"frequency\", alpha=0.5, yscale='log')\n",
    "plt.legend(legend);"
   ]
  },
  {
   "cell_type": "code",
   "execution_count": 14,
   "id": "sexual-penalty",
   "metadata": {
    "pycharm": {
     "name": "#%%\n"
    }
   },
   "outputs": [
    {
     "data": {
      "text/plain": [
       "<matplotlib.legend.Legend at 0x7fab210d1610>"
      ]
     },
     "execution_count": 14,
     "metadata": {},
     "output_type": "execute_result"
    },
    {
     "data": {
      "image/png": "[encoded data removed]",
      "text/plain": [
       "<Figure size 936x504 with 1 Axes>"
      ]
     },
     "metadata": {},
     "output_type": "display_data"
    },
    {
     "data": {
      "image/png": "[encoded data removed]",
      "text/plain": [
       "<Figure size 936x504 with 1 Axes>"
      ]
     },
     "metadata": {},
     "output_type": "display_data"
    }
   ],
   "source": [
    "isli.hist(dataDict, xlabel = \"nonce\", ylabel = \"frequency\", alpha=0.5, density=True)\n",
    "plt.legend(legend)\n",
    "isli.hist(dataDict, xlabel = \"nonce\", ylabel = \"frequency\", alpha=0.5, yscale='log', density=True)\n",
    "plt.legend(legend)"
   ]
  }
 ],
 "metadata": {
  "kernelspec": {
   "display_name": "Python 3",
   "language": "python",
   "name": "python3"
  },
  "language_info": {
   "codemirror_mode": {
    "name": "ipython",
    "version": 3
   },
   "file_extension": ".py",
   "mimetype": "text/x-python",
   "name": "python",
   "nbconvert_exporter": "python",
   "pygments_lexer": "ipython3",
   "version": "3.8.5"
  }
 },
 "nbformat": 4,
 "nbformat_minor": 5
}
